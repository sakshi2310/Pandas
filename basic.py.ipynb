{
 "cells": [
  {
   "cell_type": "markdown",
   "metadata": {},
   "source": [
    "The Series\n"
   ]
  },
  {
   "cell_type": "code",
   "execution_count": 1,
   "metadata": {},
   "outputs": [],
   "source": [
    "import numpy as np\n",
    "import pandas as pd"
   ]
  },
  {
   "cell_type": "code",
   "execution_count": 2,
   "id": "4c33564d-a7ab-47d1-aa65-6beb8054b3dd",
   "metadata": {},
   "outputs": [
    {
     "name": "stdout",
     "output_type": "stream",
     "text": [
      "0    12\n",
      "1    -4\n",
      "2     7\n",
      "3     9\n",
      "dtype: int64\n",
      "a    1\n",
      "b    2\n",
      "c    3\n",
      "d    4\n",
      "dtype: int64\n",
      "[1 2 3 4]\n",
      "Index(['a', 'b', 'c', 'd'], dtype='object')\n"
     ]
    }
   ],
   "source": [
    "s = pd.Series([12,-4,7,9])\n",
    "print(s)\n",
    "\n",
    "x = pd.Series([1,2,3,4],index=['a','b','c','d'])\n",
    "print(x)\n",
    "print(x.values)\n",
    "print(x.index)"
   ]
  },
  {
   "cell_type": "markdown",
   "metadata": {},
   "source": [
    "Selecting the Internal Elements"
   ]
  },
  {
   "cell_type": "code",
   "execution_count": 3,
   "metadata": {},
   "outputs": [
    {
     "name": "stdout",
     "output_type": "stream",
     "text": [
      "7\n",
      "-------------\n",
      "2\n",
      "-------------\n",
      "0    12\n",
      "1    -4\n",
      "dtype: int64\n",
      "-------------\n",
      "b    2\n",
      "c    3\n",
      "dtype: int64\n",
      "-------------\n",
      "b    2\n",
      "c    3\n",
      "d    4\n",
      "dtype: int64\n"
     ]
    }
   ],
   "source": [
    "print(s[2])\n",
    "print(\"-------------\")\n",
    "print(x['b'])\n",
    "print(\"-------------\")\n",
    "print(s[0:2])\n",
    "print(\"-------------\")\n",
    "print(x[['b','c']]) # fancy indexing\n",
    "print(\"-------------\")\n",
    "print(x['b':])"
   ]
  },
  {
   "cell_type": "markdown",
   "metadata": {},
   "source": [
    "Assigning Values to the Elements"
   ]
  },
  {
   "cell_type": "code",
   "execution_count": 4,
   "metadata": {},
   "outputs": [
    {
     "name": "stdout",
     "output_type": "stream",
     "text": [
      "0     12\n",
      "1    100\n",
      "2      7\n",
      "3      9\n",
      "dtype: int64\n",
      "a      1\n",
      "b      2\n",
      "c    100\n",
      "d      4\n",
      "dtype: int64\n"
     ]
    }
   ],
   "source": [
    "s[1] = 100\n",
    "print(s)\n",
    "\n",
    "x['c'] = 100\n",
    "print(x)"
   ]
  },
  {
   "cell_type": "markdown",
   "metadata": {},
   "source": [
    "Defining Series from NumPy Arrays and Other Series"
   ]
  },
  {
   "cell_type": "code",
   "execution_count": 5,
   "metadata": {},
   "outputs": [
    {
     "name": "stdout",
     "output_type": "stream",
     "text": [
      "0    1\n",
      "1    2\n",
      "2    3\n",
      "3    4\n",
      "dtype: int32\n",
      "a      1\n",
      "b      2\n",
      "c    100\n",
      "d      4\n",
      "dtype: int64\n",
      "0    1\n",
      "1    2\n",
      "2   -2\n",
      "3    4\n",
      "dtype: int32\n"
     ]
    }
   ],
   "source": [
    "arr = np.array([1,2,3,4])\n",
    "pds = pd.Series(arr)\n",
    "print(pds)\n",
    "\n",
    "x2 = pd.Series(x)\n",
    "print(x2)\n",
    "pds[2] = -2\n",
    "print(pds)"
   ]
  },
  {
   "cell_type": "markdown",
   "metadata": {},
   "source": [
    "Filtering Values\n"
   ]
  },
  {
   "cell_type": "code",
   "execution_count": 6,
   "metadata": {},
   "outputs": [
    {
     "name": "stdout",
     "output_type": "stream",
     "text": [
      "0     12\n",
      "1    100\n",
      "2      7\n",
      "3      9\n",
      "dtype: int64\n",
      "0    12\n",
      "3     9\n",
      "dtype: int64\n",
      "0     12\n",
      "1    100\n",
      "dtype: int64\n"
     ]
    }
   ],
   "source": [
    "print(s)\n",
    "print(s[(s>8) & ( s<50)])\n",
    "print(s[s>9])\n"
   ]
  },
  {
   "cell_type": "markdown",
   "metadata": {},
   "source": [
    "Operations and Mathematical Functions\n"
   ]
  },
  {
   "cell_type": "code",
   "execution_count": 7,
   "metadata": {},
   "outputs": [
    {
     "name": "stdout",
     "output_type": "stream",
     "text": [
      "0     6.0\n",
      "1    50.0\n",
      "2     3.5\n",
      "3     4.5\n",
      "dtype: float64\n"
     ]
    }
   ],
   "source": [
    "print(s/2)"
   ]
  },
  {
   "cell_type": "markdown",
   "metadata": {},
   "source": [
    "Evaluating Values"
   ]
  },
  {
   "cell_type": "code",
   "execution_count": 9,
   "metadata": {},
   "outputs": [
    {
     "name": "stdout",
     "output_type": "stream",
     "text": [
      "white     1\n",
      "white     0\n",
      "blue      2\n",
      "green     1\n",
      "green     2\n",
      "yellow    3\n",
      "dtype: int64 \n",
      "\n",
      "[1 0 2 3] \n",
      "\n",
      "1    2\n",
      "2    2\n",
      "0    1\n",
      "3    1\n",
      "Name: count, dtype: int64 \n",
      "\n",
      "white     False\n",
      "white      True\n",
      "blue      False\n",
      "green     False\n",
      "green     False\n",
      "yellow     True\n",
      "dtype: bool \n",
      "\n",
      "white     0\n",
      "yellow    3\n",
      "dtype: int64 \n",
      "\n"
     ]
    }
   ],
   "source": [
    "serd = pd.Series([1,0,2,1,2,3],index=['white','white','blue','green','green','yellow'])\n",
    "print(serd,\"\\n\")\n",
    "print(serd.unique(),\"\\n\")\n",
    "print(serd.value_counts(),\"\\n\")\n",
    "print(serd.isin([0,3]),\"\\n\")\n",
    "print(serd[serd.isin([0,3])],\"\\n\")"
   ]
  },
  {
   "cell_type": "code",
   "execution_count": 10,
   "id": "1c1b74c5",
   "metadata": {},
   "outputs": [
    {
     "data": {
      "text/plain": [
       "array([1, 2, 3, 4])"
      ]
     },
     "execution_count": 10,
     "metadata": {},
     "output_type": "execute_result"
    }
   ],
   "source": [
    "np.array([1,2,3,4])"
   ]
  },
  {
   "cell_type": "code",
   "execution_count": null,
   "id": "df82b431",
   "metadata": {},
   "outputs": [],
   "source": []
  }
 ],
 "metadata": {
  "kernelspec": {
   "display_name": "Python 3 (ipykernel)",
   "language": "python",
   "name": "python3"
  },
  "language_info": {
   "codemirror_mode": {
    "name": "ipython",
    "version": 3
   },
   "file_extension": ".py",
   "mimetype": "text/x-python",
   "name": "python",
   "nbconvert_exporter": "python",
   "pygments_lexer": "ipython3",
   "version": "3.12.0"
  }
 },
 "nbformat": 4,
 "nbformat_minor": 5
}
