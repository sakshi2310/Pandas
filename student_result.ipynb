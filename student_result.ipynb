{
 "cells": [
  {
   "cell_type": "code",
   "execution_count": 6,
   "metadata": {},
   "outputs": [],
   "source": [
    "import pandas as pd\n",
    "import numpy as np"
   ]
  },
  {
   "cell_type": "code",
   "execution_count": 16,
   "metadata": {},
   "outputs": [
    {
     "name": "stdout",
     "output_type": "stream",
     "text": [
      "   no    name  sub1  sub2  sub3  sub4  sub5\n",
      "0   1  sakshi    78    90    86    89    90\n",
      "1   2  yashvi    44    67    67    56    78\n",
      "2   3   disha    78    45    45    35    78\n",
      "3   4   jensi    66    89    37    46    85\n",
      "4   5   mahek    89    64    78    83    34\n",
      "5   6  pracho    67    67    77    33    57\n"
     ]
    }
   ],
   "source": [
    "df = pd.read_csv('student_data.csv')\n",
    "print(df)\n"
   ]
  },
  {
   "cell_type": "code",
   "execution_count": 17,
   "metadata": {},
   "outputs": [
    {
     "name": "stdout",
     "output_type": "stream",
     "text": [
      "   sub1  sub2  sub3  sub4  sub5\n",
      "0    78    90    86    89    90\n",
      "1    44    67    67    56    78\n",
      "2    78    45    45    35    78\n",
      "3    66    89    37    46    85\n",
      "4    89    64    78    83    34\n",
      "5    67    67    77    33    57\n",
      "   no    name  sub1  sub2  sub3  sub4  sub5  sum   avg  min  max result grade\n",
      "0   1  sakshi    78    90    86    89    90  433  86.6   78   90   pass     B\n",
      "1   2  yashvi    44    67    67    56    78  312  62.4   44   78   pass     D\n",
      "2   3   disha    78    45    45    35    78  281  56.2   35   78   pass     E\n",
      "3   4   jensi    66    89    37    46    85  323  64.6   37   89   pass     D\n",
      "4   5   mahek    89    64    78    83    34  348  69.6   34   89   pass     D\n",
      "5   6  pracho    67    67    77    33    57  301  60.2   33   77   pass     D\n"
     ]
    }
   ],
   "source": [
    "total = pd.DataFrame(df,columns=['sub1','sub2','sub3','sub4','sub5'])\n",
    "print(total)\n",
    "sum = total.sum(axis=1)\n",
    "df['sum'] = sum\n",
    "\n",
    "avg = df['sum']/5\n",
    "df['avg'] = avg\n",
    "\n",
    "minimum = total.min(axis=1)\n",
    "df['min'] = minimum\n",
    "\n",
    "maximum = total.max(axis=1)\n",
    "df['max'] = maximum\n",
    "\n",
    "df['result'] = \"fail\"\n",
    "df.loc[df['avg']>33,'result'] = 'pass'\n",
    "\n",
    "conditions = [\n",
    "    (df['avg'] >= 90),\n",
    "    (df['avg'] >= 80),\n",
    "    (df['avg'] >= 70),\n",
    "    (df['avg'] >= 60),\n",
    "    (df['avg'] >= 50),\n",
    "    (df['avg'] >= 40),\n",
    "    (df['avg'] >= 30),\n",
    "    (df['avg'] < 30)\n",
    "]\n",
    "\n",
    "grades = ['A', 'B', 'C', 'D', 'E', 'F', 'pass', 'Fail']\n",
    "\n",
    "# Use np.select to assign grades based on conditions\n",
    "df['grade'] = np.select(conditions, grades, default='Invalid')\n",
    "\n",
    "print(df)\n",
    "\n",
    "\n",
    " \n",
    "\n"
   ]
  },
  {
   "cell_type": "code",
   "execution_count": 17,
   "metadata": {},
   "outputs": [
    {
     "name": "stdout",
     "output_type": "stream",
     "text": [
      "   avg grade\n",
      "0   30  Fail\n",
      "1   40     F\n",
      "2   25  Fail\n",
      "3   35  Fail\n",
      "4   90     A\n"
     ]
    }
   ],
   "source": [
    "import pandas as pd\n",
    "import numpy as np\n",
    "\n",
    "# Example DataFrame\n",
    "data = {'avg': [30, 40, 25, 35,90]}\n",
    "df = pd.DataFrame(data)\n",
    "\n",
    "# Define grade conditions\n",
    "conditions = [\n",
    "    (df['avg'] >= 90),\n",
    "    (df['avg'] >= 80),\n",
    "    (df['avg'] >= 70),\n",
    "    (df['avg'] >= 60),\n",
    "    (df['avg'] >= 50),\n",
    "    (df['avg'] >= 40),\n",
    "    (df['avg'] >= 30),\n",
    "    (df['avg'] < 30)\n",
    "]\n",
    "\n",
    "# Define corresponding grades\n",
    "grades = ['A', 'B', 'C', 'D', 'E', 'F', 'Fail', 'Fail']\n",
    "\n",
    "# Use np.select to assign grades based on conditions\n",
    "df['grade'] = np.select(conditions, grades, default='Invalid')\n",
    "\n",
    "print(df)\n"
   ]
  }
 ],
 "metadata": {
  "kernelspec": {
   "display_name": "Python 3",
   "language": "python",
   "name": "python3"
  },
  "language_info": {
   "codemirror_mode": {
    "name": "ipython",
    "version": 3
   },
   "file_extension": ".py",
   "mimetype": "text/x-python",
   "name": "python",
   "nbconvert_exporter": "python",
   "pygments_lexer": "ipython3",
   "version": "0.0.0"
  }
 },
 "nbformat": 4,
 "nbformat_minor": 2
}
