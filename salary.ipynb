{
 "cells": [
  {
   "cell_type": "code",
   "execution_count": 1,
   "metadata": {},
   "outputs": [],
   "source": [
    "import pandas as pd\n"
   ]
  },
  {
   "cell_type": "code",
   "execution_count": 7,
   "metadata": {},
   "outputs": [
    {
     "name": "stdout",
     "output_type": "stream",
     "text": [
      "   No    Name  Age  Gender      state  salary\n",
      "0   1  sakshi   19  female      surat   50000\n",
      "1   2  aniket   18    male     jaipur   60000\n",
      "2   3    isha   23  female       vapi   23000\n",
      "3   4    meet   45    male      patan   34000\n",
      "4   5   mahek   22  female  amhadabad   12000\n",
      "5   6  yashvi   20  female      surat   23000\n",
      "6   7    neha   56  female     rajkot    7000\n",
      "7   9     raj   78    male     amreli   12000\n",
      "8  10   nihar   23    male     valsad   20000 \n",
      "\n",
      "   No    Name  Age Gender   state  salary\n",
      "1   2  aniket   18   male  jaipur   60000\n",
      "3   4    meet   45   male   patan   34000\n",
      "7   9     raj   78   male  amreli   12000\n",
      "8  10   nihar   23   male  valsad   20000\n"
     ]
    }
   ],
   "source": [
    "df = pd.read_csv('employ.csv')\n",
    "print(df,\"\\n\")\n",
    "\n",
    "print(df[df['Gender']==\"male\"])\n",
    "\n",
    "\n"
   ]
  }
 ],
 "metadata": {
  "kernelspec": {
   "display_name": "Python 3",
   "language": "python",
   "name": "python3"
  },
  "language_info": {
   "codemirror_mode": {
    "name": "ipython",
    "version": 3
   },
   "file_extension": ".py",
   "mimetype": "text/x-python",
   "name": "python",
   "nbconvert_exporter": "python",
   "pygments_lexer": "ipython3",
   "version": "3.11.4"
  }
 },
 "nbformat": 4,
 "nbformat_minor": 2
}
